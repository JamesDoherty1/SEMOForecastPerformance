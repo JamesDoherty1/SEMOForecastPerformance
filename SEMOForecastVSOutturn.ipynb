{
 "cells": [
  {
   "cell_type": "code",
   "execution_count": 58,
   "metadata": {},
   "outputs": [
    {
     "name": "stdout",
     "output_type": "stream",
     "text": [
      "hi\n"
     ]
    }
   ],
   "source": [
    "import requests  # API requests\n",
    "import pandas as pd\n",
    "import xml.etree.ElementTree as ET  # Will be used to parse the data"
   ]
  },
  {
   "cell_type": "code",
   "execution_count": 48,
   "metadata": {},
   "outputs": [],
   "source": [
    "# Link to connect to the API\n",
    "api_link = \"http://reports.sem-o.com/api/v1/documents/static-reports\""
   ]
  },
  {
   "cell_type": "code",
   "execution_count": 49,
   "metadata": {},
   "outputs": [],
   "source": [
    "def apiQuery(parameters):\n",
    "    Response = requests.get(api_link, params=parameters)\n",
    "    return Response"
   ]
  },
  {
   "cell_type": "code",
   "execution_count": 50,
   "metadata": {},
   "outputs": [],
   "source": [
    "# Specifying our parameters\n",
    "startDate = '2024-05-20'\n",
    "endDate = '2024-05-26'\n",
    "PageSize = '1'\n",
    "SortBy = 'PublishTime'\n",
    "ForecastReportName = 'Forecast Availability'\n",
    "OutturnReportName = 'Average Outturn Availability'\n",
    "ResourceName = ''\n",
    "ParticipantName = 'PT_400116'\n",
    "\n",
    "# Getting the range of dates\n",
    "dateRange = pd.date_range(start=startDate, end=endDate).date"
   ]
  },
  {
   "cell_type": "code",
   "execution_count": 51,
   "metadata": {},
   "outputs": [],
   "source": [
    "# Function to filter XML strings from a JSON object\n",
    "def filterXMLStrings(json_data):\n",
    "    try:\n",
    "        items = json_data.get('items', [])\n",
    "        filtered_strings = [item['ResourceName'] for item in items if item['ResourceName'].endswith('.xml')]\n",
    "        return filtered_strings\n",
    "    except KeyError:\n",
    "        print(\"KeyError: The JSON object does not contain the expected keys.\")\n",
    "        return []\n",
    "    except Exception as e:\n",
    "        print(f\"An error occurred: {e}\")\n",
    "        return []\n"
   ]
  },
  {
   "cell_type": "code",
   "execution_count": 52,
   "metadata": {},
   "outputs": [],
   "source": [
    "# Function to loop through dates and return all the XML file names we need\n",
    "def RetrieveXMLFileNames(XMLFileType):\n",
    "    XMLFileNames = []\n",
    "    for date in dateRange:\n",
    "        TypeParameters = {\n",
    "            'ReportName': XMLFileType,\n",
    "            'Date': date,\n",
    "            'page_size': PageSize,\n",
    "            'sort_by': SortBy,\n",
    "        }\n",
    "        Response = apiQuery(TypeParameters)\n",
    "        if Response.status_code != 200:\n",
    "            print(f\"Failed to retrieve data: {Response.status_code}\")\n",
    "        else:\n",
    "            GridInfo = Response.json()\n",
    "\n",
    "            # Filtering data to isolate the names of the XML files we want to use\n",
    "            FilteredGridInfo = filterXMLStrings(GridInfo)\n",
    "            XMLFileNames.extend(FilteredGridInfo)  # Extend instead of append\n",
    "\n",
    "            #print(\"\\n\\n\\n\" + XMLFileType + \":\", FilteredGridInfo)\n",
    "\n",
    "    return XMLFileNames\n"
   ]
  },
  {
   "cell_type": "code",
   "execution_count": 71,
   "metadata": {},
   "outputs": [
    {
     "name": "stdout",
     "output_type": "stream",
     "text": [
      "\n",
      "\n",
      "\n",
      "Forecast Availability: ['PUB_DailyForecastAvailability_202405192030.xml']\n",
      "\n",
      "\n",
      "\n",
      "Forecast Availability: ['PUB_DailyForecastAvailability_202405202030.xml']\n",
      "\n",
      "\n",
      "\n",
      "Forecast Availability: ['PUB_DailyForecastAvailability_202405212030.xml']\n",
      "\n",
      "\n",
      "\n",
      "Forecast Availability: ['PUB_DailyForecastAvailability_202405222030.xml']\n",
      "\n",
      "\n",
      "\n",
      "Forecast Availability: ['PUB_DailyForecastAvailability_202405232030.xml']\n",
      "\n",
      "\n",
      "\n",
      "Forecast Availability: ['PUB_DailyForecastAvailability_202405242030.xml']\n",
      "\n",
      "\n",
      "\n",
      "Forecast Availability: ['PUB_DailyForecastAvailability_202405252030.xml']\n",
      "\n",
      "\n",
      "\n",
      "Average Outturn Availability: ['PUB_AvgOutturnAvail_202405211406.xml']\n",
      "\n",
      "\n",
      "\n",
      "Average Outturn Availability: ['PUB_AvgOutturnAvail_202405221518.xml']\n",
      "\n",
      "\n",
      "\n",
      "Average Outturn Availability: ['PUB_AvgOutturnAvail_202405240846.xml']\n",
      "\n",
      "\n",
      "\n",
      "Average Outturn Availability: ['PUB_AvgOutturnAvail_202405241451.xml']\n",
      "\n",
      "\n",
      "\n",
      "Average Outturn Availability: ['PUB_AvgOutturnAvail_202405271259.xml']\n",
      "\n",
      "\n",
      "\n",
      "Average Outturn Availability: ['PUB_AvgOutturnAvail_202405271404.xml']\n",
      "\n",
      "\n",
      "\n",
      "Average Outturn Availability: ['PUB_AvgOutturnAvail_202405271440.xml']\n"
     ]
    },
    {
     "ename": "ImportError",
     "evalue": "lxml not found, please install or use the etree parser.",
     "output_type": "error",
     "traceback": [
      "\u001b[0;31m---------------------------------------------------------------------------\u001b[0m",
      "\u001b[0;31mImportError\u001b[0m                               Traceback (most recent call last)",
      "Cell \u001b[0;32mIn[71], line 5\u001b[0m\n\u001b[1;32m      2\u001b[0m OutturnResponseData \u001b[38;5;241m=\u001b[39m RetrieveXMLFileNames(OutturnReportName)\n\u001b[1;32m      4\u001b[0m \u001b[38;5;28;01mfor\u001b[39;00m data \u001b[38;5;129;01min\u001b[39;00m ForecastResponseData:\n\u001b[0;32m----> 5\u001b[0m     \u001b[43mpd\u001b[49m\u001b[38;5;241;43m.\u001b[39;49m\u001b[43mread_xml\u001b[49m\u001b[43m(\u001b[49m\u001b[38;5;124;43m'\u001b[39;49m\u001b[38;5;124;43mhttps://reports.sem-o.com/documents/PUB_DailyForecastAvailability_202405192030.xml\u001b[39;49m\u001b[38;5;124;43m'\u001b[39;49m\u001b[43m)\u001b[49m\n",
      "File \u001b[0;32m/Library/Frameworks/Python.framework/Versions/3.12/lib/python3.12/site-packages/pandas/io/xml.py:1160\u001b[0m, in \u001b[0;36mread_xml\u001b[0;34m(path_or_buffer, xpath, namespaces, elems_only, attrs_only, names, dtype, converters, parse_dates, encoding, parser, stylesheet, iterparse, compression, storage_options, dtype_backend)\u001b[0m\n\u001b[1;32m    888\u001b[0m \u001b[38;5;250m\u001b[39m\u001b[38;5;124mr\u001b[39m\u001b[38;5;124;03m\"\"\"\u001b[39;00m\n\u001b[1;32m    889\u001b[0m \u001b[38;5;124;03mRead XML document into a :class:`~pandas.DataFrame` object.\u001b[39;00m\n\u001b[1;32m    890\u001b[0m \n\u001b[0;32m   (...)\u001b[0m\n\u001b[1;32m   1156\u001b[0m \u001b[38;5;124;03m1      1  <NA>  4.5  False  b 2019-12-31\u001b[39;00m\n\u001b[1;32m   1157\u001b[0m \u001b[38;5;124;03m\"\"\"\u001b[39;00m\n\u001b[1;32m   1158\u001b[0m check_dtype_backend(dtype_backend)\n\u001b[0;32m-> 1160\u001b[0m \u001b[38;5;28;01mreturn\u001b[39;00m \u001b[43m_parse\u001b[49m\u001b[43m(\u001b[49m\n\u001b[1;32m   1161\u001b[0m \u001b[43m    \u001b[49m\u001b[43mpath_or_buffer\u001b[49m\u001b[38;5;241;43m=\u001b[39;49m\u001b[43mpath_or_buffer\u001b[49m\u001b[43m,\u001b[49m\n\u001b[1;32m   1162\u001b[0m \u001b[43m    \u001b[49m\u001b[43mxpath\u001b[49m\u001b[38;5;241;43m=\u001b[39;49m\u001b[43mxpath\u001b[49m\u001b[43m,\u001b[49m\n\u001b[1;32m   1163\u001b[0m \u001b[43m    \u001b[49m\u001b[43mnamespaces\u001b[49m\u001b[38;5;241;43m=\u001b[39;49m\u001b[43mnamespaces\u001b[49m\u001b[43m,\u001b[49m\n\u001b[1;32m   1164\u001b[0m \u001b[43m    \u001b[49m\u001b[43melems_only\u001b[49m\u001b[38;5;241;43m=\u001b[39;49m\u001b[43melems_only\u001b[49m\u001b[43m,\u001b[49m\n\u001b[1;32m   1165\u001b[0m \u001b[43m    \u001b[49m\u001b[43mattrs_only\u001b[49m\u001b[38;5;241;43m=\u001b[39;49m\u001b[43mattrs_only\u001b[49m\u001b[43m,\u001b[49m\n\u001b[1;32m   1166\u001b[0m \u001b[43m    \u001b[49m\u001b[43mnames\u001b[49m\u001b[38;5;241;43m=\u001b[39;49m\u001b[43mnames\u001b[49m\u001b[43m,\u001b[49m\n\u001b[1;32m   1167\u001b[0m \u001b[43m    \u001b[49m\u001b[43mdtype\u001b[49m\u001b[38;5;241;43m=\u001b[39;49m\u001b[43mdtype\u001b[49m\u001b[43m,\u001b[49m\n\u001b[1;32m   1168\u001b[0m \u001b[43m    \u001b[49m\u001b[43mconverters\u001b[49m\u001b[38;5;241;43m=\u001b[39;49m\u001b[43mconverters\u001b[49m\u001b[43m,\u001b[49m\n\u001b[1;32m   1169\u001b[0m \u001b[43m    \u001b[49m\u001b[43mparse_dates\u001b[49m\u001b[38;5;241;43m=\u001b[39;49m\u001b[43mparse_dates\u001b[49m\u001b[43m,\u001b[49m\n\u001b[1;32m   1170\u001b[0m \u001b[43m    \u001b[49m\u001b[43mencoding\u001b[49m\u001b[38;5;241;43m=\u001b[39;49m\u001b[43mencoding\u001b[49m\u001b[43m,\u001b[49m\n\u001b[1;32m   1171\u001b[0m \u001b[43m    \u001b[49m\u001b[43mparser\u001b[49m\u001b[38;5;241;43m=\u001b[39;49m\u001b[43mparser\u001b[49m\u001b[43m,\u001b[49m\n\u001b[1;32m   1172\u001b[0m \u001b[43m    \u001b[49m\u001b[43mstylesheet\u001b[49m\u001b[38;5;241;43m=\u001b[39;49m\u001b[43mstylesheet\u001b[49m\u001b[43m,\u001b[49m\n\u001b[1;32m   1173\u001b[0m \u001b[43m    \u001b[49m\u001b[43miterparse\u001b[49m\u001b[38;5;241;43m=\u001b[39;49m\u001b[43miterparse\u001b[49m\u001b[43m,\u001b[49m\n\u001b[1;32m   1174\u001b[0m \u001b[43m    \u001b[49m\u001b[43mcompression\u001b[49m\u001b[38;5;241;43m=\u001b[39;49m\u001b[43mcompression\u001b[49m\u001b[43m,\u001b[49m\n\u001b[1;32m   1175\u001b[0m \u001b[43m    \u001b[49m\u001b[43mstorage_options\u001b[49m\u001b[38;5;241;43m=\u001b[39;49m\u001b[43mstorage_options\u001b[49m\u001b[43m,\u001b[49m\n\u001b[1;32m   1176\u001b[0m \u001b[43m    \u001b[49m\u001b[43mdtype_backend\u001b[49m\u001b[38;5;241;43m=\u001b[39;49m\u001b[43mdtype_backend\u001b[49m\u001b[43m,\u001b[49m\n\u001b[1;32m   1177\u001b[0m \u001b[43m\u001b[49m\u001b[43m)\u001b[49m\n",
      "File \u001b[0;32m/Library/Frameworks/Python.framework/Versions/3.12/lib/python3.12/site-packages/pandas/io/xml.py:830\u001b[0m, in \u001b[0;36m_parse\u001b[0;34m(path_or_buffer, xpath, namespaces, elems_only, attrs_only, names, dtype, converters, parse_dates, encoding, parser, stylesheet, iterparse, compression, storage_options, dtype_backend, **kwargs)\u001b[0m\n\u001b[1;32m    813\u001b[0m         p \u001b[38;5;241m=\u001b[39m _LxmlFrameParser(\n\u001b[1;32m    814\u001b[0m             path_or_buffer,\n\u001b[1;32m    815\u001b[0m             xpath,\n\u001b[0;32m   (...)\u001b[0m\n\u001b[1;32m    827\u001b[0m             storage_options,\n\u001b[1;32m    828\u001b[0m         )\n\u001b[1;32m    829\u001b[0m     \u001b[38;5;28;01melse\u001b[39;00m:\n\u001b[0;32m--> 830\u001b[0m         \u001b[38;5;28;01mraise\u001b[39;00m \u001b[38;5;167;01mImportError\u001b[39;00m(\u001b[38;5;124m\"\u001b[39m\u001b[38;5;124mlxml not found, please install or use the etree parser.\u001b[39m\u001b[38;5;124m\"\u001b[39m)\n\u001b[1;32m    832\u001b[0m \u001b[38;5;28;01melif\u001b[39;00m parser \u001b[38;5;241m==\u001b[39m \u001b[38;5;124m\"\u001b[39m\u001b[38;5;124metree\u001b[39m\u001b[38;5;124m\"\u001b[39m:\n\u001b[1;32m    833\u001b[0m     p \u001b[38;5;241m=\u001b[39m _EtreeFrameParser(\n\u001b[1;32m    834\u001b[0m         path_or_buffer,\n\u001b[1;32m    835\u001b[0m         xpath,\n\u001b[0;32m   (...)\u001b[0m\n\u001b[1;32m    847\u001b[0m         storage_options,\n\u001b[1;32m    848\u001b[0m     )\n",
      "\u001b[0;31mImportError\u001b[0m: lxml not found, please install or use the etree parser."
     ]
    }
   ],
   "source": [
    "ForecastResponseData = RetrieveXMLFileNames(ForecastReportName)\n",
    "OutturnResponseData = RetrieveXMLFileNames(OutturnReportName)\n",
    "\n",
    "for data in ForecastResponseData:\n",
    "    pd.read_xml('https://reports.sem-o.com/documents/PUB_DailyForecastAvailability_202405192030.xml')"
   ]
  }
 ],
 "metadata": {
  "kernelspec": {
   "display_name": "Python 3",
   "language": "python",
   "name": "python3"
  },
  "language_info": {
   "codemirror_mode": {
    "name": "ipython",
    "version": 3
   },
   "file_extension": ".py",
   "mimetype": "text/x-python",
   "name": "python",
   "nbconvert_exporter": "python",
   "pygments_lexer": "ipython3",
   "version": "3.12.4"
  }
 },
 "nbformat": 4,
 "nbformat_minor": 2
}
