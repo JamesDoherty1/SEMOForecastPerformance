{
 "cells": [
  {
   "cell_type": "code",
   "execution_count": 58,
   "metadata": {},
   "outputs": [
    {
     "name": "stdout",
     "output_type": "stream",
     "text": [
      "hi\n"
     ]
    }
   ],
   "source": [
    "import requests  # API requests\n",
    "import pandas as pd\n",
    "import xml.etree.ElementTree as ET  # Will be used to parse the data"
   ]
  },
  {
   "cell_type": "code",
   "execution_count": 48,
   "metadata": {},
   "outputs": [],
   "source": [
    "# Link to connect to the API\n",
    "api_link = \"http://reports.sem-o.com/api/v1/documents/static-reports\""
   ]
  },
  {
   "cell_type": "code",
   "execution_count": 49,
   "metadata": {},
   "outputs": [],
   "source": [
    "def apiQuery(parameters):\n",
    "    Response = requests.get(api_link, params=parameters)\n",
    "    return Response"
   ]
  },
  {
   "cell_type": "code",
   "execution_count": 50,
   "metadata": {},
   "outputs": [],
   "source": [
    "# Specifying our parameters\n",
    "startDate = '2024-05-20'\n",
    "endDate = '2024-05-26'\n",
    "PageSize = '1'\n",
    "SortBy = 'PublishTime'\n",
    "ForecastReportName = 'Forecast Availability'\n",
    "OutturnReportName = 'Average Outturn Availability'\n",
    "ResourceName = ''\n",
    "ParticipantName = 'PT_400116'\n",
    "\n",
    "# Getting the range of dates\n",
    "dateRange = pd.date_range(start=startDate, end=endDate).date"
   ]
  },
  {
   "cell_type": "code",
   "execution_count": 51,
   "metadata": {},
   "outputs": [],
   "source": [
    "# Function to filter XML strings from a JSON object\n",
    "def filterXMLStrings(json_data):\n",
    "    try:\n",
    "        items = json_data.get('items', [])\n",
    "        filtered_strings = [item['ResourceName'] for item in items if item['ResourceName'].endswith('.xml')]\n",
    "        return filtered_strings\n",
    "    except KeyError:\n",
    "        print(\"KeyError: The JSON object does not contain the expected keys.\")\n",
    "        return []\n",
    "    except Exception as e:\n",
    "        print(f\"An error occurred: {e}\")\n",
    "        return []\n"
   ]
  },
  {
   "cell_type": "code",
   "execution_count": 72,
   "metadata": {},
   "outputs": [],
   "source": [
    "# Function to loop through dates and return all the XML file names we need\n",
    "def RetrieveXMLFileNames(XMLFileType):\n",
    "    XMLFileNames = []\n",
    "    for date in dateRange:\n",
    "        TypeParameters = {\n",
    "            'ReportName': XMLFileType,\n",
    "            'Date': date,\n",
    "            'page_size': PageSize,\n",
    "            'sort_by': SortBy,\n",
    "        }\n",
    "        Response = apiQuery(TypeParameters)\n",
    "        if Response.status_code != 200:\n",
    "            print(f\"Failed to retrieve data: {Response.status_code}\")\n",
    "        else:\n",
    "            GridInfo = Response.json()\n",
    "\n",
    "            # Filtering data to isolate the names of the XML files we want to use\n",
    "            FilteredGridInfo = filterXMLStrings(GridInfo)\n",
    "            XMLFileNames.extend(FilteredGridInfo)  # Extend instead of append\n",
    "\n",
    "            #print(\"\\n\\n\\n\" + XMLFileType + \":\", FilteredGridInfo)\n",
    "\n",
    "    return XMLFileNames\n"
   ]
  },
  {
   "cell_type": "code",
   "execution_count": 84,
   "metadata": {},
   "outputs": [
    {
     "name": "stdout",
     "output_type": "stream",
     "text": [
      "['PUB_DailyForecastAvailability_202405192030.xml', 'PUB_DailyForecastAvailability_202405202030.xml', 'PUB_DailyForecastAvailability_202405212030.xml', 'PUB_DailyForecastAvailability_202405222030.xml', 'PUB_DailyForecastAvailability_202405232030.xml', 'PUB_DailyForecastAvailability_202405242030.xml', 'PUB_DailyForecastAvailability_202405252030.xml']\n",
      "Forecast Availability: [8.924, 8.924, 8.734, 8.734, 8.68, 8.68, 8.652, 8.652, 8.617, 8.617, 8.845, 8.845, 8.781, 8.781, 8.18, 8.18, 7.918, 7.918, 7.886, 7.886, 7.794, 7.794, 7.739, 7.739, 7.569, 7.569, 7.294, 7.294, 7.418, 7.418, 7.454, 7.454, 7.416, 7.416, 7.421, 7.421, 7.577, 7.577, 7.786, 7.786, 7.831, 7.831, 8.003, 8.003, 9.043, 9.043, 9.097, 9.097, 6.519, 6.519, 6.517, 6.517, 6.523, 6.523, 6.518, 6.518, 6.528, 6.528, 8.348, 8.348, 8.364, 8.364, 8.361, 8.361, 8.371, 8.371, 8.357, 8.357, 8.322, 8.322, 8.288, 8.288, 8.288, 8.288, 8.292, 8.292, 8.304, 8.304, 8.3, 8.3, 8.053, 8.053, 8.075, 8.075, 8.3, 8.3, 8.315, 8.315, 8.304, 8.304, 6.414, 6.414, 6.406, 6.406, 6.428, 6.428, 9.127, 9.127, 8.998, 8.998, 8.97, 8.97, 9.001, 9.001, 7.614, 7.614, 9.161, 9.161, 9.18, 9.18, 9.186, 9.186, 9.175, 9.175, 9.181, 9.181, 9.202, 9.202, 7.166, 7.166, 9.183, 9.183, 9.159, 9.159, 9.156, 9.156, 9.175, 9.175, 9.126, 9.126, 9.144, 9.144, 9.092, 9.092, 9.099, 9.099, 9.091, 9.091, 9.088, 9.088, 9.047, 9.047, 9.12, 9.12, 1.358, 1.358, 1.36, 1.36, 1.36, 1.36, 1.36, 1.36, 1.359, 1.359, 1.359, 1.359, 1.359, 1.359, 1.354, 1.354, 1.352, 1.352, 1.35, 1.35, 1.339, 1.339, 1.339, 1.339, 1.339, 1.339, 1.339, 1.339, 1.339, 1.339, 1.339, 1.339, 1.339, 1.339, 1.339, 1.339, 1.339, 1.339, 1.339, 1.339, 1.339, 1.339, 1.339, 1.339, 1.34, 1.34, 1.339, 1.339, 0.371, 0.371, 0.371, 0.371, 0.371, 0.371, 0.371, 0.371, 0.371, 0.371, 0.371, 0.371, 0.371, 0.371, 0.371, 0.371, 0.371, 0.371, 0.371, 0.371, 0.371, 0.371, 0.371, 0.371, 0.371, 0.371, 0.371, 0.371, 0.371, 0.371, 0.371, 0.371, 0.371, 0.371, 0.371, 0.371, 0.371, 0.371, 0.371, 0.371, 0.371, 0.371, 0.371, 0.371, 0.371, 0.371, 0.371, 0.371, 8.024, 8.024, 8.719, 8.719, 8.56, 8.56, 7.747, 7.747, 7.848, 7.848, 7.615, 7.615, 7.264, 7.264, 7.455, 7.455, 7.935, 7.935, 7.965, 7.965, 7.939, 7.939, 7.369, 7.369, 7.247, 7.247, 7.223, 7.223, 6.987, 6.987, 6.7, 6.7, 6.477, 6.477, 7.217, 7.217, 7.231, 7.231, 7.3, 7.3, 7.945, 7.945, 8.359, 8.359, 8.252, 8.252, 7.985, 7.985, 3.114, 3.114, 3.115, 3.115, 3.145, 3.145, 3.129, 3.129, 3.116, 3.116, 2.654, 2.654, 0.743, 0.743, 0.751, 0.751, 0.768, 0.768, 0.782, 0.782, 0.779, 0.779, 0.785, 0.785, 0.786, 0.786, 0.773, 0.773, 0.773, 0.773, 0.765, 0.765, 0.764, 0.764, 0.758, 0.758, 0.685, 0.685, 0.658, 0.658, 0.814, 0.814, 3.13, 3.13, 3.124, 3.124, 2.931, 2.931, 5.698, 5.698, 5.594, 5.594, 5.57, 5.57, 5.594, 5.594, 5.602, 5.602, 5.617, 5.617, 5.972, 5.972, 6.341, 6.341, 6.534, 6.534, 6.385, 6.385, 6.54, 6.54, 6.777, 6.777, 6.838, 6.838, 6.694, 6.694, 6.652, 6.652, 6.686, 6.686, 6.785, 6.785, 6.499, 6.499, 6.101, 6.101, 6.15, 6.15, 6.314, 6.314, 6.222, 6.222, 5.776, 5.776, 6.106, 6.106, 2.652, 2.652, 2.689, 2.689, 2.683, 2.683, 2.715, 2.715, 2.783, 2.783, 2.788, 2.788, 2.779, 2.779, 2.582, 2.582, 2.557, 2.557, 2.554, 2.554, 2.552, 2.552, 2.592, 2.592, 2.626, 2.626, 2.553, 2.553, 2.531, 2.531, 2.529, 2.529, 2.524, 2.524, 2.515, 2.515, 2.607, 2.607, 2.658, 2.658, 2.511, 2.511, 2.47, 2.47, 2.448, 2.448, 2.493, 2.493, 0.681, 0.681, 0.711, 0.711, 0.661, 0.661, 0.72, 0.72, 0.673, 0.673, 0.702, 0.702, 0.72, 0.72, 0.682, 0.682, 0.623, 0.623, 0.64, 0.64, 0.662, 0.662, 0.68, 0.68, 0.709, 0.709, 0.756, 0.756, 0.721, 0.721, 0.759, 0.759, 0.723, 0.723, 0.742, 0.742, 0.882, 0.882, 0.907, 0.907, 0.94, 0.94, 0.891, 0.891, 0.684, 0.684, 0.674, 0.674, 5.577, 5.577, 5.608, 5.608, 5.598, 5.598, 5.652, 5.652, 5.732, 5.732, 5.715, 5.715, 5.635, 5.635, 5.475, 5.475, 5.374, 5.374, 5.281, 5.281, 5.179, 5.179, 5.064, 5.064, 5.064, 5.064, 5.354, 5.354, 5.824, 5.824, 5.008, 5.008, 4.982, 4.982, 4.99, 4.99, 5.097, 5.097, 5.109, 5.109, 5.179, 5.179, 5.403, 5.403, 5.273, 5.273, 5.275, 5.275]\n"
     ]
    }
   ],
   "source": [
    "ForecastResponseData = RetrieveXMLFileNames(ForecastReportName)\n",
    "OutturnResponseData = RetrieveXMLFileNames(OutturnReportName)\n",
    "\n",
    "print(ForecastResponseData)\n",
    "\n",
    "forecast_availability_array = []\n",
    "\n",
    "for data in ForecastResponseData:\n",
    "    url = 'https://reports.sem-o.com/documents/' + data\n",
    "    df = pd.read_xml(url)\n",
    "    \n",
    "if 'ParticipantName' in df.columns and 'ForecastAvailability' in df.columns:\n",
    "        filtered_df = df[df['ParticipantName'] == ParticipantName]\n",
    "        forecast_availability_array.extend(filtered_df['ForecastAvailability'].dropna().tolist())\n",
    "\n",
    "print(\"Forecast Availability:\", forecast_availability_array)\n",
    "\n",
    "\n",
    "\n",
    "\n",
    "print(OutturnResponseData)\n",
    "\n",
    "outturn_availability_array = []\n",
    "\n",
    "for data in OutturnResponseData:\n",
    "    url = 'https://reports.sem-o.com/documents/' + data\n",
    "    df = pd.read_xml(url)\n",
    "    \n",
    "if 'ParticipantName' in df.columns and 'AvgOutturnAvail' in df.columns:\n",
    "        filtered_df = df[df['ParticipantName'] == ParticipantName]\n",
    "        outturn_availability_array.extend(filtered_df['OutturnAvailability'].dropna().tolist())\n",
    "\n",
    "print(\"Outturn Availability:\", outturn_availability_array)\n",
    "\n"
   ]
  },
  {
   "cell_type": "code",
   "execution_count": null,
   "metadata": {},
   "outputs": [],
   "source": []
  }
 ],
 "metadata": {
  "kernelspec": {
   "display_name": "Python 3",
   "language": "python",
   "name": "python3"
  },
  "language_info": {
   "codemirror_mode": {
    "name": "ipython",
    "version": 3
   },
   "file_extension": ".py",
   "mimetype": "text/x-python",
   "name": "python",
   "nbconvert_exporter": "python",
   "pygments_lexer": "ipython3",
   "version": "3.12.4"
  }
 },
 "nbformat": 4,
 "nbformat_minor": 2
}
